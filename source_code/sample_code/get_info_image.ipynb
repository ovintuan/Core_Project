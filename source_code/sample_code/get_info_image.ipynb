{
 "cells": [
  {
   "cell_type": "code",
   "execution_count": 2,
   "metadata": {},
   "outputs": [],
   "source": [
    "import subprocess\n",
    "import json\n",
    "import os"
   ]
  },
  {
   "cell_type": "code",
   "execution_count": 3,
   "metadata": {},
   "outputs": [],
   "source": [
    "\n",
    "def get_docker_image_info(image_name):\n",
    "    try:\n",
    "        # Run the docker inspect command and capture the output\n",
    "        result = subprocess.run(\n",
    "            [\"docker\", \"inspect\", image_name],\n",
    "            check=True,\n",
    "            text=True,\n",
    "            capture_output=True\n",
    "        )\n",
    "\n",
    "        # Print the command output\n",
    "        output = result.stdout\n",
    "        # print(\"Command Output:\")\n",
    "        # print(output)\n",
    "        \n",
    "        # Optionally, parse the JSON output\n",
    "        image_info = json.loads(output)\n",
    "        return image_info\n",
    "\n",
    "    except subprocess.CalledProcessError as e:\n",
    "        print(f\"Error executing command: {e}\")\n",
    "        print(\"Output:\", e.output)\n",
    "        print(\"Error:\", e.stderr)\n",
    "    except json.JSONDecodeError as e:\n",
    "        print(f\"Error parsing JSON output: {e}\")\n",
    "\n"
   ]
  },
  {
   "cell_type": "code",
   "execution_count": 4,
   "metadata": {},
   "outputs": [
    {
     "name": "stdout",
     "output_type": "stream",
     "text": [
      "['/opt/bitnami/scripts/spark/entrypoint.sh']\n",
      "['/opt/bitnami/scripts/spark/run.sh']\n"
     ]
    }
   ],
   "source": [
    "image_name = \"bitnami/spark:3.5.2\"\n",
    "image_info = get_docker_image_info(image_name)[0]\n",
    "print(image_info['Config']['Entrypoint'])\n",
    "print(image_info['Config']['Cmd'])\n",
    "# image_info"
   ]
  },
  {
   "cell_type": "code",
   "execution_count": 6,
   "metadata": {},
   "outputs": [
    {
     "data": {
      "text/plain": [
       "['PATH=/opt/bitnami/python/bin:/opt/bitnami/java/bin:/opt/bitnami/spark/bin:/opt/bitnami/spark/sbin:/usr/local/sbin:/usr/local/bin:/usr/sbin:/usr/bin:/sbin:/bin',\n",
       " 'HOME=/',\n",
       " 'OS_ARCH=amd64',\n",
       " 'OS_FLAVOUR=debian-12',\n",
       " 'OS_NAME=linux',\n",
       " 'APP_VERSION=3.5.2',\n",
       " 'BITNAMI_APP_NAME=spark',\n",
       " 'JAVA_HOME=/opt/bitnami/java',\n",
       " 'LD_LIBRARY_PATH=/opt/bitnami/python/lib:/opt/bitnami/spark/venv/lib/python3.8/site-packages/numpy.libs:',\n",
       " 'LIBNSS_WRAPPER_PATH=/opt/bitnami/common/lib/libnss_wrapper.so',\n",
       " 'NSS_WRAPPER_GROUP=/opt/bitnami/spark/tmp/nss_group',\n",
       " 'NSS_WRAPPER_PASSWD=/opt/bitnami/spark/tmp/nss_passwd',\n",
       " 'PYTHONPATH=/opt/bitnami/spark/python/:',\n",
       " 'SPARK_HOME=/opt/bitnami/spark',\n",
       " 'SPARK_USER=spark']"
      ]
     },
     "execution_count": 6,
     "metadata": {},
     "output_type": "execute_result"
    }
   ],
   "source": [
    "image_info['Config']['Env']"
   ]
  },
  {
   "cell_type": "code",
   "execution_count": 5,
   "metadata": {},
   "outputs": [],
   "source": [
    "image_name = \"python:3.11.9\"\n",
    "image_info = get_docker_image_info(image_name)[0]"
   ]
  },
  {
   "cell_type": "code",
   "execution_count": null,
   "metadata": {},
   "outputs": [],
   "source": [
    "/usr/local/bin/python3.11 /opt/bitnami/python"
   ]
  },
  {
   "cell_type": "code",
   "execution_count": 7,
   "metadata": {},
   "outputs": [
    {
     "data": {
      "text/plain": [
       "{'Hostname': '',\n",
       " 'Domainname': '',\n",
       " 'User': '',\n",
       " 'AttachStdin': False,\n",
       " 'AttachStdout': False,\n",
       " 'AttachStderr': False,\n",
       " 'Tty': False,\n",
       " 'OpenStdin': False,\n",
       " 'StdinOnce': False,\n",
       " 'Env': ['PATH=/usr/local/bin:/usr/local/sbin:/usr/local/bin:/usr/sbin:/usr/bin:/sbin:/bin',\n",
       "  'LANG=C.UTF-8',\n",
       "  'GPG_KEY=A035C8C19219BA821ECEA86B64E628F8D684696D',\n",
       "  'PYTHON_VERSION=3.11.9',\n",
       "  'PYTHON_PIP_VERSION=24.0',\n",
       "  'PYTHON_SETUPTOOLS_VERSION=65.5.1',\n",
       "  'PYTHON_GET_PIP_URL=https://github.com/pypa/get-pip/raw/66d8a0f637083e2c3ddffc0cb1e65ce126afb856/public/get-pip.py',\n",
       "  'PYTHON_GET_PIP_SHA256=6fb7b781206356f45ad79efbb19322caa6c2a5ad39092d0d44d0fec94117e118'],\n",
       " 'Cmd': ['python3'],\n",
       " 'ArgsEscaped': True,\n",
       " 'Image': '',\n",
       " 'Volumes': None,\n",
       " 'WorkingDir': '',\n",
       " 'Entrypoint': None,\n",
       " 'OnBuild': None,\n",
       " 'Labels': None}"
      ]
     },
     "execution_count": 7,
     "metadata": {},
     "output_type": "execute_result"
    }
   ],
   "source": [
    "image_info['Config']"
   ]
  },
  {
   "cell_type": "code",
   "execution_count": null,
   "metadata": {},
   "outputs": [],
   "source": []
  },
  {
   "cell_type": "code",
   "execution_count": null,
   "metadata": {},
   "outputs": [],
   "source": []
  },
  {
   "cell_type": "code",
   "execution_count": null,
   "metadata": {},
   "outputs": [],
   "source": []
  },
  {
   "cell_type": "code",
   "execution_count": null,
   "metadata": {},
   "outputs": [],
   "source": []
  },
  {
   "cell_type": "code",
   "execution_count": null,
   "metadata": {},
   "outputs": [],
   "source": []
  },
  {
   "cell_type": "code",
   "execution_count": null,
   "metadata": {},
   "outputs": [],
   "source": []
  },
  {
   "cell_type": "code",
   "execution_count": null,
   "metadata": {},
   "outputs": [],
   "source": []
  },
  {
   "cell_type": "code",
   "execution_count": null,
   "metadata": {},
   "outputs": [],
   "source": []
  },
  {
   "cell_type": "code",
   "execution_count": null,
   "metadata": {},
   "outputs": [],
   "source": []
  },
  {
   "cell_type": "code",
   "execution_count": null,
   "metadata": {},
   "outputs": [],
   "source": []
  },
  {
   "cell_type": "code",
   "execution_count": null,
   "metadata": {},
   "outputs": [],
   "source": []
  }
 ],
 "metadata": {
  "kernelspec": {
   "display_name": "Python 3",
   "language": "python",
   "name": "python3"
  },
  "language_info": {
   "codemirror_mode": {
    "name": "ipython",
    "version": 3
   },
   "file_extension": ".py",
   "mimetype": "text/x-python",
   "name": "python",
   "nbconvert_exporter": "python",
   "pygments_lexer": "ipython3",
   "version": "3.8.4"
  }
 },
 "nbformat": 4,
 "nbformat_minor": 2
}
