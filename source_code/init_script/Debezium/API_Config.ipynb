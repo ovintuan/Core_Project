{
 "cells": [
  {
   "cell_type": "code",
   "execution_count": null,
   "metadata": {},
   "outputs": [
    {
     "name": "stdout",
     "output_type": "stream",
     "text": [
      "Connector created successfully!\n",
      "{\"name\":\"sqlserver_database_1-connector\",\"config\":{\"connector.class\":\"io.debezium.connector.sqlserver.SqlServerConnector\",\"tasks.max\":\"1\",\"database.hostname\":\"sqlserver_database_1\",\"database.port\":\"1433\",\"database.user\":\"SA\",\"database.password\":\"SQL_Server_Password_1000\",\"database.dbname\":\"CreditStagingDB\",\"database.server.name\":\"sqlserver\",\"database.names\":\"CreditStagingDB\",\"table.include.list\":\"dbo.CustomerProductAccount, dbo.AccountTransactionHistory\",\"topic.name\":\"CDC_SQL_Server_1\",\"topic.prefix\":\"sqlserver\",\"database.history.kafka.bootstrap.servers\":\"kafka-1:9092,kafka-2:9092,kafka-3:9092\",\"database.history.kafka.topic\":\"sqlserver.CDC_SQL_Server_1\",\"schema.history.kafka.bootstrap.servers\":\"kafka-1:9092,kafka-2:9092,kafka-3:9092\",\"schema.history.internal.kafka.topic\":\"schema-changes.SQL_Server_1\",\"database.encrypt\":\"true\",\"database.trustServerCertificate\":\"true\",\"name\":\"sqlserver_database_1-connector\"},\"tasks\":[],\"type\":\"source\"}\n"
     ]
    }
   ],
   "source": [
    "import requests\n",
    "\n",
    "url = \"http://localhost:9083/connectors\"\n",
    "headers = {\n",
    "    \"Content-Type\": \"application/json\"\n",
    "}\n",
    "data = {\n",
    "    \"name\": \"sqlserver_database_1-connector\",\n",
    "    \"config\": {\n",
    "        \"connector.class\": \"io.debezium.connector.sqlserver.SqlServerConnector\",\n",
    "        \"tasks.max\": \"1\",\n",
    "        \"database.hostname\": \"sqlserver_database_1\",\n",
    "        \"database.port\": \"1433\",\n",
    "        \"database.user\": \"SA\",\n",
    "        \"database.password\": \"SQL_Server_Password_1000\",\n",
    "        \"database.dbname\": \"CreditStagingDB\",\n",
    "        \"database.server.name\": \"sqlserver\",\n",
    "        \"database.names\": \"CreditStagingDB\",  # Thêm trường này\n",
    "        \"table.include.list\": \"dbo.CustomerProductAccount, dbo.AccountTransactionHistory\",\n",
    "        \"topic.name\": \"CDC_SQL_Server_1\",  # Thêm trường này\n",
    "        \"topic.prefix\": \"sqlserver\",  # Thêm trường này\n",
    "        \"database.history.kafka.bootstrap.servers\": \"kafka-1:9092,kafka-2:9092,kafka-3:9092\",\n",
    "        \"database.history.kafka.topic\": \"sqlserver.CDC_SQL_Server_1\",\n",
    "        \"schema.history.internal.kafka.bootstrap.servers\": \"kafka-1:9092,kafka-2:9092,kafka-3:9092\",        \n",
    "        \"schema.history.internal.kafka.topic\": \"schema-changes.SQL_Server_1\",\n",
    "        \"database.encrypt\": \"true\",\n",
    "        \"database.trustServerCertificate\": \"true\"\n",
    "    }\n",
    "}\n",
    "\n",
    "response = requests.post(url, headers=headers, json=data)\n",
    "\n",
    "if response.status_code == 201:\n",
    "    print(\"Connector created successfully!\")\n",
    "else:\n",
    "    print(f\"Failed to create connector. Status code: {response.status_code}\")\n",
    "print(response.text)\n"
   ]
  },
  {
   "cell_type": "markdown",
   "metadata": {},
   "source": [
    "# Update Config"
   ]
  },
  {
   "cell_type": "code",
   "execution_count": null,
   "metadata": {},
   "outputs": [
    {
     "name": "stdout",
     "output_type": "stream",
     "text": [
      "Status code: 200\n",
      "{\"name\":\"sqlserver_database_1-connector\",\"config\":{\"connector.class\":\"io.debezium.connector.sqlserver.SqlServerConnector\",\"tasks.max\":\"1\",\"database.hostname\":\"sqlserver_database_1\",\"database.port\":\"1433\",\"database.user\":\"SA\",\"database.password\":\"SQL_Server_Password_1000\",\"database.dbname\":\"CreditStagingDB\",\"database.server.name\":\"sqlserver\",\"database.names\":\"CreditStagingDB\",\"table.include.list\":\"dbo.CustomerProductAccount, dbo.AccountTransactionHistory\",\"topic.name\":\"CDC_SQL_Server_1\",\"topic.prefix\":\"sqlserver\",\"database.history.kafka.bootstrap.servers\":\"kafka-1:9092,kafka-2:9092,kafka-3:9092\",\"database.history.kafka.topic\":\"sqlserver.CDC_SQL_Server_1\",\"schema.history.internal.kafka.bootstrap.servers\":\"kafka-1:9092,kafka-2:9092,kafka-3:9092\",\"schema.history.internal.kafka.topic\":\"schema-changes.SQL_Server_1\",\"database.encrypt\":\"true\",\"database.trustServerCertificate\":\"true\",\"name\":\"sqlserver_database_1-connector\"},\"tasks\":[{\"connector\":\"sqlserver_database_1-connector\",\"task\":0}],\"type\":\"source\"}\n"
     ]
    },
    {
     "ename": "",
     "evalue": "",
     "output_type": "error",
     "traceback": [
      "\u001b[1;31mThe Kernel crashed while executing code in the current cell or a previous cell. \n",
      "\u001b[1;31mPlease review the code in the cell(s) to identify a possible cause of the failure. \n",
      "\u001b[1;31mClick <a href='https://aka.ms/vscodeJupyterKernelCrash'>here</a> for more info. \n",
      "\u001b[1;31mView Jupyter <a href='command:jupyter.viewOutput'>log</a> for further details."
     ]
    }
   ],
   "source": [
    "# import requests\n",
    "\n",
    "# url = \"http://localhost:9083/connectors/sqlserver_database_1-connector/config\"\n",
    "# headers = {\n",
    "#     \"Content-Type\": \"application/json\"\n",
    "# }\n",
    "# data = {\n",
    "#         \"connector.class\": \"io.debezium.connector.sqlserver.SqlServerConnector\",\n",
    "#         \"tasks.max\": \"1\",\n",
    "#         \"database.hostname\": \"sqlserver_database_1\",\n",
    "#         \"database.port\": \"1433\",\n",
    "#         \"database.user\": \"SA\",\n",
    "#         \"database.password\": \"SQL_Server_Password_1000\",\n",
    "#         \"database.dbname\": \"CreditStagingDB\",\n",
    "#         \"database.server.name\": \"sqlserver\",\n",
    "#         \"database.names\": \"CreditStagingDB\",  # Thêm trường này\n",
    "#         \"table.include.list\": \"dbo.CustomerProductAccount, dbo.AccountTransactionHistory\",\n",
    "#         \"topic.name\": \"CDC_SQL_Server_1\",  # Thêm trường này\n",
    "#         \"topic.prefix\": \"sqlserver\",  # Thêm trường này\n",
    "#         \"database.history.kafka.bootstrap.servers\": \"kafka-1:9092,kafka-2:9092,kafka-3:9092\",\n",
    "#         \"database.history.kafka.topic\": \"sqlserver.CDC_SQL_Server_1\",\n",
    "#         \"schema.history.internal.kafka.bootstrap.servers\": \"kafka-1:9092,kafka-2:9092,kafka-3:9092\",        \n",
    "#         \"schema.history.internal.kafka.topic\": \"schema-changes.SQL_Server_1\",\n",
    "#         \"database.encrypt\": \"true\",\n",
    "#         \"database.trustServerCertificate\": \"true\"\n",
    "#     }\n",
    "\n",
    "# response = requests.put(url, headers=headers, json=data)\n",
    "\n",
    "# if response.status_code == 201:\n",
    "#     print(\"successfully!\")\n",
    "# else:\n",
    "#     print(f\"Status code: {response.status_code}\")\n",
    "# print(response.text)\n"
   ]
  }
 ],
 "metadata": {
  "kernelspec": {
   "display_name": "Python 3",
   "language": "python",
   "name": "python3"
  },
  "language_info": {
   "codemirror_mode": {
    "name": "ipython",
    "version": 3
   },
   "file_extension": ".py",
   "mimetype": "text/x-python",
   "name": "python",
   "nbconvert_exporter": "python",
   "pygments_lexer": "ipython3",
   "version": "3.8.4"
  }
 },
 "nbformat": 4,
 "nbformat_minor": 2
}
